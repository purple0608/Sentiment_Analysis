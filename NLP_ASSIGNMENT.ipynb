{
  "nbformat": 4,
  "nbformat_minor": 0,
  "metadata": {
    "colab": {
      "provenance": []
    },
    "kernelspec": {
      "name": "python3",
      "display_name": "Python 3"
    },
    "language_info": {
      "name": "python"
    }
  },
  "cells": [
    {
      "cell_type": "markdown",
      "source": [
        "DATASET"
      ],
      "metadata": {
        "id": "vaQYTcjbYiCu"
      }
    },
    {
      "cell_type": "code",
      "execution_count": 1,
      "metadata": {
        "colab": {
          "base_uri": "https://localhost:8080/"
        },
        "id": "xXVNgRhaYd1q",
        "outputId": "a2843b41-5d43-41fe-b291-05b8a3fd1a8a"
      },
      "outputs": [
        {
          "output_type": "stream",
          "name": "stdout",
          "text": [
            "Data downloaded and extracted successfully.\n"
          ]
        }
      ],
      "source": [
        "import urllib.request\n",
        "import tarfile\n",
        "\n",
        "# Download the data\n",
        "url = \"https://www.cs.cornell.edu/people/pabo/movie-review-data/rt-polaritydata.tar.gz\"\n",
        "filename = \"rt-polaritydata.tar.gz\"\n",
        "urllib.request.urlretrieve(url, filename)\n",
        "\n",
        "# Extract the tar.gz file\n",
        "with tarfile.open(filename, \"r:gz\") as tar:\n",
        "    tar.extractall()\n",
        "print(\"Data downloaded and extracted successfully.\")"
      ]
    },
    {
      "cell_type": "markdown",
      "source": [
        "LOADING AND PREPARING DATASET"
      ],
      "metadata": {
        "id": "PRHwlpwkZEiP"
      }
    },
    {
      "cell_type": "code",
      "source": [
        "# Read positive and negative reviews\n",
        "with open(\"rt-polaritydata/rt-polarity.pos\", \"r\", encoding=\"latin-1\") as pos_file:\n",
        "    pos_reviews = pos_file.readlines()\n",
        "\n",
        "with open(\"rt-polaritydata/rt-polarity.neg\", \"r\", encoding=\"latin-1\") as neg_file:\n",
        "    neg_reviews = neg_file.readlines()\n",
        "\n",
        "print(f\"Review Count\")\n",
        "# Analyze the number of reviews\n",
        "print(f\"Number of positive reviews: {len(pos_reviews)}\")\n",
        "print(f\"Number of negative reviews: {len(neg_reviews)}\")\n",
        "\n",
        "# Analyze the average length of reviews (in words)\n",
        "pos_review_lengths = [len(review.split()) for review in pos_reviews]\n",
        "neg_review_lengths = [len(review.split()) for review in neg_reviews]\n",
        "\n",
        "avg_pos_length = sum(pos_review_lengths) / len(pos_review_lengths)\n",
        "avg_neg_length = sum(neg_review_lengths) / len(neg_review_lengths)\n",
        "\n",
        "print(f\"\\nAverage Review Length\")\n",
        "print(f\"Average positive review length (in words): {avg_pos_length:.2f}\")\n",
        "print(f\"Average negative review length (in words): {avg_neg_length:.2f}\")\n",
        "import pandas as pd\n",
        "\n",
        "# Create a dataframe with reviews and their respective labels\n",
        "data = pd.DataFrame({\n",
        "    'review': pos_reviews + neg_reviews,\n",
        "    'label': [1] * len(pos_reviews) + [0] * len(neg_reviews)  # 1 for positive, 0 for negative\n",
        "})"
      ],
      "metadata": {
        "colab": {
          "base_uri": "https://localhost:8080/"
        },
        "id": "Nwk2h9vSZDWi",
        "outputId": "8cbcd5cf-2d14-490a-b923-1ff973fadc59"
      },
      "execution_count": 3,
      "outputs": [
        {
          "output_type": "stream",
          "name": "stdout",
          "text": [
            "Review Count\n",
            "Number of positive reviews: 5331\n",
            "Number of negative reviews: 5331\n",
            "\n",
            "Average Review Length\n",
            "Average positive review length (in words): 21.09\n",
            "Average negative review length (in words): 20.94\n"
          ]
        }
      ]
    },
    {
      "cell_type": "markdown",
      "source": [
        "SPLITTING TESTING AND TRAINING DATASET"
      ],
      "metadata": {
        "id": "utzaUpS7ZQlb"
      }
    },
    {
      "cell_type": "code",
      "source": [
        "# Create the training, validation, and test splits\n",
        "train_pos = data[data['label'] == 1][:4000]\n",
        "train_neg = data[data['label'] == 0][:4000]\n",
        "\n",
        "valid_pos = data[data['label'] == 1][4000:4500]\n",
        "valid_neg = data[data['label'] == 0][4000:4500]\n",
        "\n",
        "test_pos = data[data['label'] == 1][4500:5331]\n",
        "test_neg = data[data['label'] == 0][4500:5331]\n",
        "\n",
        "# Combine positive and negative reviews for each set\n",
        "train_data = pd.concat([train_pos, train_neg])\n",
        "valid_data = pd.concat([valid_pos, valid_neg])\n",
        "test_data = pd.concat([test_pos, test_neg])\n",
        "\n",
        "# Shuffle each set\n",
        "train_data = train_data.sample(frac=1, random_state=42).reset_index(drop=True)\n",
        "valid_data = valid_data.sample(frac=1, random_state=42).reset_index(drop=True)\n",
        "test_data = test_data.sample(frac=1, random_state=42).reset_index(drop=True)\n",
        "\n",
        "# Print the sizes of each set\n",
        "print(f\"Training set:\")\n",
        "print(f\"Positive: {len(train_pos)}, Negative: {len(train_neg)}\")\\\n",
        "\n",
        "print(f\"\\nValidation set:\")\n",
        "print(f\"VPositive: {len(valid_pos)}, Negative: {len(valid_neg)}\")\n",
        "\n",
        "print(f\"\\nTest set size:\")\n",
        "print(f\"Positive: {len(test_pos)}, Negative: {len(test_neg)}\")\n"
      ],
      "metadata": {
        "colab": {
          "base_uri": "https://localhost:8080/"
        },
        "id": "oZnKP4tYZUb5",
        "outputId": "68175c4e-310b-405d-fa4f-1c9b46b02ee7"
      },
      "execution_count": 4,
      "outputs": [
        {
          "output_type": "stream",
          "name": "stdout",
          "text": [
            "Training set:\n",
            "Positive: 4000, Negative: 4000\n",
            "\n",
            "Validation set:\n",
            "VPositive: 500, Negative: 500\n",
            "\n",
            "Test set size:\n",
            "Positive: 831, Negative: 831\n"
          ]
        }
      ]
    },
    {
      "cell_type": "markdown",
      "source": [
        "TEXT PROCESSING"
      ],
      "metadata": {
        "id": "h1VeqrbEa8Oo"
      }
    },
    {
      "cell_type": "code",
      "source": [
        "from sklearn.feature_extraction.text import TfidfVectorizer\n",
        "\n",
        "# Initialize the TF-IDF vectorizer\n",
        "vectorizer = TfidfVectorizer(max_features=5000, stop_words='english')\n",
        "\n",
        "# Fit and transform the text data for each split\n",
        "X_train = vectorizer.fit_transform(train_data['review']).toarray()\n",
        "X_valid = vectorizer.transform(valid_data['review']).toarray()\n",
        "X_test = vectorizer.transform(test_data['review']).toarray()\n",
        "\n",
        "# Extract labels for each split\n",
        "y_train = train_data['label'].values\n",
        "y_valid = valid_data['label'].values\n",
        "y_test = test_data['label'].values\n",
        "\n",
        "print(f\"Training data shape: {X_train.shape}\")\n",
        "print(f\"Validation data shape: {X_valid.shape}\")\n",
        "print(f\"Test data shape: {X_test.shape}\")"
      ],
      "metadata": {
        "colab": {
          "base_uri": "https://localhost:8080/"
        },
        "id": "E7NS89j8a-ek",
        "outputId": "6f9b8c01-3e2f-4d75-f714-152e96c80a49"
      },
      "execution_count": 5,
      "outputs": [
        {
          "output_type": "stream",
          "name": "stdout",
          "text": [
            "Training data shape: (8000, 5000)\n",
            "Validation data shape: (1000, 5000)\n",
            "Test data shape: (1662, 5000)\n"
          ]
        }
      ]
    },
    {
      "cell_type": "markdown",
      "source": [
        "LOGISTIC REGRESSION"
      ],
      "metadata": {
        "id": "AKt1eCcdbI4y"
      }
    },
    {
      "cell_type": "code",
      "source": [
        "from sklearn.linear_model import LogisticRegression\n",
        "\n",
        "# Initialize the logistic regression model\n",
        "model = LogisticRegression()\n",
        "\n",
        "# Train the model\n",
        "model.fit(X_train, y_train)\n",
        "from sklearn.metrics import precision_score, recall_score, f1_score\n",
        "\n",
        "# Validate the model\n",
        "y_valid_pred = model.predict(X_valid)\n",
        "\n",
        "# Print validation results\n",
        "precision = precision_score(y_valid, y_valid_pred)\n",
        "recall = recall_score(y_valid, y_valid_pred)\n",
        "f1 = f1_score(y_valid, y_valid_pred)\n",
        "\n",
        "print(f\"Validation Precision: {precision:.4f}, Recall: {recall:.4f}, F1-Score: {f1:.4f}\")\n",
        "from sklearn.metrics import precision_score, recall_score, f1_score\n",
        "\n",
        "# Predict on the test set\n",
        "y_test_pred = model.predict(X_test)\n",
        "\n",
        "# Calculate precision, recall, and F1-score for the test set\n",
        "precision = precision_score(y_test, y_test_pred)\n",
        "recall = recall_score(y_test, y_test_pred)\n",
        "f1 = f1_score(y_test, y_test_pred)\n",
        "\n",
        "# Print the evaluation metrics for the test set\n",
        "print(f\"Test Precision: {precision:.4f}, Recall: {recall:.4f}, F1-Score: {f1:.4f}\")\n",
        "from sklearn.metrics import confusion_matrix\n",
        "\n",
        "# Predict on the test set\n",
        "y_test_pred = model.predict(X_test)\n",
        "\n",
        "# Calculate confusion matrix\n",
        "conf_matrix = confusion_matrix(y_test, y_test_pred)\n",
        "\n",
        "# Extract TP, TN, FP, FN\n",
        "tn, fp, fn, tp = conf_matrix.ravel()\n",
        "\n",
        "# Print TP, TN, FP, FN\n",
        "print(f\"True Positives: {tp} \\nTrue Negatives: {tn} \\nFalse Positives: {fp} \\nFalse Negatives: {fn}\")\n",
        "from sklearn.metrics import classification_report\n",
        "\n",
        "# Print classification report\n",
        "print(\"\\nClassification Report for Logistic Rehression:\")\n",
        "print(classification_report(y_test, y_test_pred))\n",
        "import matplotlib.pyplot as plt\n",
        "import seaborn as sns\n",
        "\n",
        "# Create a heatmap for the confusion matrix\n",
        "plt.figure(figsize=(8, 4))\n",
        "sns.heatmap(conf_matrix, annot=True, fmt='d', cmap='Blues',\n",
        "            xticklabels=['Negative', 'Positive'],\n",
        "            yticklabels=['Negative', 'Positive'])\n",
        "plt.title('Confusion Matrix')\n",
        "plt.xlabel('Predicted Label')\n",
        "plt.ylabel('True Label')\n",
        "plt.show()"
      ],
      "metadata": {
        "colab": {
          "base_uri": "https://localhost:8080/",
          "height": 705
        },
        "id": "HGNuJ1E9bLDk",
        "outputId": "7544da5c-1438-4fe1-8d68-ee9fbb3e2ea6"
      },
      "execution_count": 6,
      "outputs": [
        {
          "output_type": "stream",
          "name": "stdout",
          "text": [
            "Validation Precision: 0.7859, Recall: 0.7340, F1-Score: 0.7590\n",
            "Test Precision: 0.7389, Recall: 0.7425, F1-Score: 0.7407\n",
            "True Positives: 617 \n",
            "True Negatives: 613 \n",
            "False Positives: 218 \n",
            "False Negatives: 214\n",
            "\n",
            "Classification Report for Logistic Rehression:\n",
            "              precision    recall  f1-score   support\n",
            "\n",
            "           0       0.74      0.74      0.74       831\n",
            "           1       0.74      0.74      0.74       831\n",
            "\n",
            "    accuracy                           0.74      1662\n",
            "   macro avg       0.74      0.74      0.74      1662\n",
            "weighted avg       0.74      0.74      0.74      1662\n",
            "\n"
          ]
        },
        {
          "output_type": "display_data",
          "data": {
            "text/plain": [
              "<Figure size 800x400 with 2 Axes>"
            ],
            "image/png": "[encoded data removed]"
          },
          "metadata": {}
        }
      ]
    },
    {
      "cell_type": "markdown",
      "source": [
        "RANDOM FOREST CLASSIFIER"
      ],
      "metadata": {
        "id": "UgIsp1TjdvNO"
      }
    },
    {
      "cell_type": "code",
      "source": [
        "from sklearn.ensemble import RandomForestClassifier\n",
        "\n",
        "# Initialize the random forest model\n",
        "rf_model = RandomForestClassifier()\n",
        "\n",
        "# Train the model\n",
        "rf_model.fit(X_train, y_train)\n",
        "\n",
        "# Validate the model\n",
        "y_valid_pred_rf = rf_model.predict(X_valid)\n",
        "\n",
        "# Calculate precision, recall, and F1-score for the validation set\n",
        "precision_rf = precision_score(y_valid, y_valid_pred_rf)\n",
        "recall_rf = recall_score(y_valid, y_valid_pred_rf)\n",
        "f1_rf = f1_score(y_valid, y_valid_pred_rf)\n",
        "\n",
        "print(f\"Validation Precision (Random Forest): {precision_rf:.4f}, Recall: {recall_rf:.4f}, F1-Score: {f1_rf:.4f}\")\n",
        "\n",
        "# Predict on the test set\n",
        "y_test_pred_rf = rf_model.predict(X_test)\n",
        "\n",
        "# Calculate precision, recall, and F1-score for the test set\n",
        "precision_rf_test = precision_score(y_test, y_test_pred_rf)\n",
        "recall_rf_test = recall_score(y_test, y_test_pred_rf)\n",
        "f1_rf_test = f1_score(y_test, y_test_pred_rf)\n",
        "\n",
        "print(f\"Test Precision (Random Forest): {precision_rf_test:.4f}, Recall: {recall_rf_test:.4f}, F1-Score: {f1_rf_test:.4f}\")\n"
      ],
      "metadata": {
        "colab": {
          "base_uri": "https://localhost:8080/"
        },
        "id": "5vvVxembdx7F",
        "outputId": "e3f36bec-3ce7-496c-ce1f-b3bc28913c01"
      },
      "execution_count": 7,
      "outputs": [
        {
          "output_type": "stream",
          "name": "stdout",
          "text": [
            "Validation Precision (Random Forest): 0.7432, Recall: 0.6540, F1-Score: 0.6957\n",
            "Test Precision (Random Forest): 0.7163, Recall: 0.6594, F1-Score: 0.6867\n"
          ]
        }
      ]
    },
    {
      "cell_type": "markdown",
      "source": [
        "SVM"
      ],
      "metadata": {
        "id": "Dy2h2C7FdzUG"
      }
    },
    {
      "cell_type": "code",
      "source": [
        "from sklearn.svm import SVC\n",
        "\n",
        "# Initialize the SVM model\n",
        "svm_model = SVC()\n",
        "\n",
        "# Train the model\n",
        "svm_model.fit(X_train, y_train)\n",
        "\n",
        "# Validate the model\n",
        "y_valid_pred_svm = svm_model.predict(X_valid)\n",
        "\n",
        "# Calculate precision, recall, and F1-score for the validation set\n",
        "precision_svm = precision_score(y_valid, y_valid_pred_svm)\n",
        "recall_svm = recall_score(y_valid, y_valid_pred_svm)\n",
        "f1_svm = f1_score(y_valid, y_valid_pred_svm)\n",
        "\n",
        "print(f\"Validation Precision (SVM): {precision_svm:.4f}, Recall: {recall_svm:.4f}, F1-Score: {f1_svm:.4f}\")\n",
        "\n",
        "# Predict on the test set\n",
        "y_test_pred_svm = svm_model.predict(X_test)\n",
        "\n",
        "# Calculate precision, recall, and F1-score for the test set\n",
        "precision_svm_test = precision_score(y_test, y_test_pred_svm)\n",
        "recall_svm_test = recall_score(y_test, y_test_pred_svm)\n",
        "f1_svm_test = f1_score(y_test, y_test_pred_svm)\n",
        "\n",
        "print(f\"Test Precision (SVM): {precision_svm_test:.4f}, Recall: {recall_svm_test:.4f}, F1-Score: {f1_svm_test:.4f}\")\n"
      ],
      "metadata": {
        "colab": {
          "base_uri": "https://localhost:8080/"
        },
        "id": "3q1v50sHeCxt",
        "outputId": "bb8fa7e5-5529-411a-db42-ce8d246f49ac"
      },
      "execution_count": 8,
      "outputs": [
        {
          "output_type": "stream",
          "name": "stdout",
          "text": [
            "Validation Precision (SVM): 0.7868, Recall: 0.7380, F1-Score: 0.7616\n",
            "Test Precision (SVM): 0.7334, Recall: 0.7316, F1-Score: 0.7325\n"
          ]
        }
      ]
    },
    {
      "cell_type": "markdown",
      "source": [
        "MODEL COMPARISON"
      ],
      "metadata": {
        "id": "iYU7ZZc1eIMT"
      }
    },
    {
      "cell_type": "code",
      "source": [
        "import numpy as np\n",
        "\n",
        "# Collect test set results from all models\n",
        "models = ['Logistic Regression', 'Random Forest', 'SVM']\n",
        "precision_scores = [precision, precision_rf_test, precision_svm_test]\n",
        "recall_scores = [recall, recall_rf_test, recall_svm_test]\n",
        "f1_scores = [f1, f1_rf_test, f1_svm_test]\n",
        "\n",
        "# Print the comparison in a table format\n",
        "print(f\"\\n{'Model':<20}{'Precision':<15}{'Recall':<15}{'F1-Score':<15}\")\n",
        "for i in range(len(models)):\n",
        "    print(f\"{models[i]:<20}{precision_scores[i]:<15.4f}{recall_scores[i]:<15.4f}{f1_scores[i]:<15.4f}\")\n"
      ],
      "metadata": {
        "colab": {
          "base_uri": "https://localhost:8080/"
        },
        "id": "7e036vrheKXn",
        "outputId": "7dc58355-8b4b-4d99-f4fc-9e9f34db09d5"
      },
      "execution_count": 9,
      "outputs": [
        {
          "output_type": "stream",
          "name": "stdout",
          "text": [
            "\n",
            "Model               Precision      Recall         F1-Score       \n",
            "Logistic Regression 0.7389         0.7425         0.7407         \n",
            "Random Forest       0.7163         0.6594         0.6867         \n",
            "SVM                 0.7334         0.7316         0.7325         \n"
          ]
        }
      ]
    },
    {
      "cell_type": "markdown",
      "source": [
        "CONFUSION MATRIX"
      ],
      "metadata": {
        "id": "aGItrj8GeP3x"
      }
    },
    {
      "cell_type": "code",
      "source": [
        "from sklearn.metrics import confusion_matrix, classification_report\n",
        "\n",
        "# Logistic Regression\n",
        "conf_matrix_lr = confusion_matrix(y_test, y_test_pred)\n",
        "print(\"\\nClassification Report for Logistic Regression:\")\n",
        "print(classification_report(y_test, y_test_pred))\n",
        "\n",
        "# Random Forest\n",
        "conf_matrix_rf = confusion_matrix(y_test, y_test_pred_rf)\n",
        "print(\"\\nClassification Report for Random Forest:\")\n",
        "print(classification_report(y_test, y_test_pred_rf))\n",
        "\n",
        "# SVM\n",
        "conf_matrix_svm = confusion_matrix(y_test, y_test_pred_svm)\n",
        "print(\"\\nClassification Report for SVM:\")\n",
        "print(classification_report(y_test, y_test_pred_svm))\n"
      ],
      "metadata": {
        "colab": {
          "base_uri": "https://localhost:8080/"
        },
        "id": "-no6wP7AeRbf",
        "outputId": "1077cc42-0fd1-463e-8ab0-e4faa76ca95e"
      },
      "execution_count": 10,
      "outputs": [
        {
          "output_type": "stream",
          "name": "stdout",
          "text": [
            "\n",
            "Classification Report for Logistic Regression:\n",
            "              precision    recall  f1-score   support\n",
            "\n",
            "           0       0.74      0.74      0.74       831\n",
            "           1       0.74      0.74      0.74       831\n",
            "\n",
            "    accuracy                           0.74      1662\n",
            "   macro avg       0.74      0.74      0.74      1662\n",
            "weighted avg       0.74      0.74      0.74      1662\n",
            "\n",
            "\n",
            "Classification Report for Random Forest:\n",
            "              precision    recall  f1-score   support\n",
            "\n",
            "           0       0.68      0.74      0.71       831\n",
            "           1       0.72      0.66      0.69       831\n",
            "\n",
            "    accuracy                           0.70      1662\n",
            "   macro avg       0.70      0.70      0.70      1662\n",
            "weighted avg       0.70      0.70      0.70      1662\n",
            "\n",
            "\n",
            "Classification Report for SVM:\n",
            "              precision    recall  f1-score   support\n",
            "\n",
            "           0       0.73      0.73      0.73       831\n",
            "           1       0.73      0.73      0.73       831\n",
            "\n",
            "    accuracy                           0.73      1662\n",
            "   macro avg       0.73      0.73      0.73      1662\n",
            "weighted avg       0.73      0.73      0.73      1662\n",
            "\n"
          ]
        }
      ]
    },
    {
      "cell_type": "markdown",
      "source": [
        "VISUALISATION OF CONFUSION MATRIX"
      ],
      "metadata": {
        "id": "zhRtR-EJeU_f"
      }
    },
    {
      "cell_type": "code",
      "source": [
        "import matplotlib.pyplot as plt\n",
        "import seaborn as sns\n",
        "\n",
        "# Plot confusion matrices for all models\n",
        "fig, ax = plt.subplots(1, 3, figsize=(18, 5))\n",
        "\n",
        "# Logistic Regression\n",
        "sns.heatmap(conf_matrix_lr, annot=True, fmt='d', cmap='Blues',\n",
        "            xticklabels=['Negative', 'Positive'],\n",
        "            yticklabels=['Negative', 'Positive'], ax=ax[0])\n",
        "ax[0].set_title('Logistic Regression')\n",
        "\n",
        "# Random Forest\n",
        "sns.heatmap(conf_matrix_rf, annot=True, fmt='d', cmap='Blues',\n",
        "            xticklabels=['Negative', 'Positive'],\n",
        "            yticklabels=['Negative', 'Positive'], ax=ax[1])\n",
        "ax[1].set_title('Random Forest')\n",
        "\n",
        "# SVM\n",
        "sns.heatmap(conf_matrix_svm, annot=True, fmt='d', cmap='Blues',\n",
        "            xticklabels=['Negative', 'Positive'],\n",
        "            yticklabels=['Negative', 'Positive'], ax=ax[2])\n",
        "ax[2].set_title('SVM')\n",
        "\n",
        "plt.tight_layout()\n",
        "plt.show()\n"
      ],
      "metadata": {
        "colab": {
          "base_uri": "https://localhost:8080/",
          "height": 500
        },
        "id": "_K78qTUNeX8K",
        "outputId": "42d64396-fca9-4e46-9fc4-4e38d419ce59"
      },
      "execution_count": 11,
      "outputs": [
        {
          "output_type": "display_data",
          "data": {
            "text/plain": [
              "<Figure size 1800x500 with 6 Axes>"
            ],
            "image/png": "[encoded data removed]"
          },
          "metadata": {}
        }
      ]
    }
  ]
}